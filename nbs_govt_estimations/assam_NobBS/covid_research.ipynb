{
 "cells": [
  {
   "cell_type": "code",
   "execution_count": 1,
   "metadata": {},
   "outputs": [],
   "source": [
    "# Importing Libraries\n",
    "import pandas as pd\n",
    "from random import randint\n",
    "import datetime"
   ]
  },
  {
   "cell_type": "code",
   "execution_count": 2,
   "metadata": {},
   "outputs": [],
   "source": [
    "# Nan value tratement from status_change_date column\n",
    "patients_ds = pd.read_csv(r'patients_data.csv')\n",
    "patients_ds.dropna(subset=['status_change_date'],inplace=True)\n",
    "\n",
    "# saving modified patients_dataset\n",
    "patients_ds.to_csv('patients_ds_mod.csv',index=False)"
   ]
  },
  {
   "cell_type": "code",
   "execution_count": 3,
   "metadata": {},
   "outputs": [],
   "source": [
    "# Date parser for date columns\n",
    "mydateparser = lambda x: pd.datetime.strptime(x, \"%d-%m-%Y\")\n",
    "\n",
    "# Reading modifies patients ds\n",
    "patients_ds = pd.read_csv(\"patients_ds_mod.csv\", parse_dates=['date_announced','status_change_date'], date_parser=mydateparser)"
   ]
  },
  {
   "cell_type": "code",
   "execution_count": 4,
   "metadata": {},
   "outputs": [
    {
     "data": {
      "text/html": [
       "<div>\n",
       "<style scoped>\n",
       "    .dataframe tbody tr th:only-of-type {\n",
       "        vertical-align: middle;\n",
       "    }\n",
       "\n",
       "    .dataframe tbody tr th {\n",
       "        vertical-align: top;\n",
       "    }\n",
       "\n",
       "    .dataframe thead th {\n",
       "        text-align: right;\n",
       "    }\n",
       "</style>\n",
       "<table border=\"1\" class=\"dataframe\">\n",
       "  <thead>\n",
       "    <tr style=\"text-align: right;\">\n",
       "      <th></th>\n",
       "      <th>patient_number</th>\n",
       "      <th>state_patient_number</th>\n",
       "      <th>date_announced</th>\n",
       "      <th>age_bracket</th>\n",
       "      <th>gender</th>\n",
       "      <th>detected_city</th>\n",
       "      <th>detected_district</th>\n",
       "      <th>detected_state</th>\n",
       "      <th>state_code</th>\n",
       "      <th>current_status</th>\n",
       "      <th>notes</th>\n",
       "      <th>suspected_contacted_patient</th>\n",
       "      <th>nationality</th>\n",
       "      <th>type_of_transmission</th>\n",
       "      <th>status_change_date</th>\n",
       "      <th>source_1</th>\n",
       "      <th>source_2</th>\n",
       "      <th>source_3</th>\n",
       "      <th>backup_notes</th>\n",
       "    </tr>\n",
       "  </thead>\n",
       "  <tbody>\n",
       "    <tr>\n",
       "      <th>0</th>\n",
       "      <td>1</td>\n",
       "      <td>KL-TS-P1</td>\n",
       "      <td>2020-01-30</td>\n",
       "      <td>20</td>\n",
       "      <td>F</td>\n",
       "      <td>Thrissur</td>\n",
       "      <td>Thrissur</td>\n",
       "      <td>Kerala</td>\n",
       "      <td>KL</td>\n",
       "      <td>Recovered</td>\n",
       "      <td>Travelled from Wuhan</td>\n",
       "      <td>NaN</td>\n",
       "      <td>India</td>\n",
       "      <td>Imported</td>\n",
       "      <td>2020-02-14</td>\n",
       "      <td>https://twitter.com/vijayanpinarayi/status/122...</td>\n",
       "      <td>https://weather.com/en-IN/india/news/news/2020...</td>\n",
       "      <td>Student from Wuhan</td>\n",
       "      <td>NaN</td>\n",
       "    </tr>\n",
       "    <tr>\n",
       "      <th>1</th>\n",
       "      <td>2</td>\n",
       "      <td>KL-AL-P1</td>\n",
       "      <td>2020-02-02</td>\n",
       "      <td>NaN</td>\n",
       "      <td>NaN</td>\n",
       "      <td>Alappuzha</td>\n",
       "      <td>Alappuzha</td>\n",
       "      <td>Kerala</td>\n",
       "      <td>KL</td>\n",
       "      <td>Recovered</td>\n",
       "      <td>Travelled from Wuhan</td>\n",
       "      <td>NaN</td>\n",
       "      <td>India</td>\n",
       "      <td>Imported</td>\n",
       "      <td>2020-02-14</td>\n",
       "      <td>https://www.indiatoday.in/india/story/kerala-r...</td>\n",
       "      <td>https://weather.com/en-IN/india/news/news/2020...</td>\n",
       "      <td>NaN</td>\n",
       "      <td>Student from Wuhan</td>\n",
       "    </tr>\n",
       "  </tbody>\n",
       "</table>\n",
       "</div>"
      ],
      "text/plain": [
       "   patient_number state_patient_number date_announced age_bracket gender  \\\n",
       "0               1             KL-TS-P1     2020-01-30          20      F   \n",
       "1               2             KL-AL-P1     2020-02-02         NaN    NaN   \n",
       "\n",
       "  detected_city detected_district detected_state state_code current_status  \\\n",
       "0      Thrissur          Thrissur         Kerala         KL      Recovered   \n",
       "1     Alappuzha         Alappuzha         Kerala         KL      Recovered   \n",
       "\n",
       "                  notes suspected_contacted_patient nationality  \\\n",
       "0  Travelled from Wuhan                         NaN       India   \n",
       "1  Travelled from Wuhan                         NaN       India   \n",
       "\n",
       "  type_of_transmission status_change_date  \\\n",
       "0             Imported         2020-02-14   \n",
       "1             Imported         2020-02-14   \n",
       "\n",
       "                                            source_1  \\\n",
       "0  https://twitter.com/vijayanpinarayi/status/122...   \n",
       "1  https://www.indiatoday.in/india/story/kerala-r...   \n",
       "\n",
       "                                            source_2            source_3  \\\n",
       "0  https://weather.com/en-IN/india/news/news/2020...  Student from Wuhan   \n",
       "1  https://weather.com/en-IN/india/news/news/2020...                 NaN   \n",
       "\n",
       "         backup_notes  \n",
       "0                 NaN  \n",
       "1  Student from Wuhan  "
      ]
     },
     "execution_count": 4,
     "metadata": {},
     "output_type": "execute_result"
    }
   ],
   "source": [
    "patients_ds.head(2)"
   ]
  },
  {
   "cell_type": "code",
   "execution_count": 5,
   "metadata": {},
   "outputs": [
    {
     "data": {
      "text/html": [
       "<div>\n",
       "<style scoped>\n",
       "    .dataframe tbody tr th:only-of-type {\n",
       "        vertical-align: middle;\n",
       "    }\n",
       "\n",
       "    .dataframe tbody tr th {\n",
       "        vertical-align: top;\n",
       "    }\n",
       "\n",
       "    .dataframe thead th {\n",
       "        text-align: right;\n",
       "    }\n",
       "</style>\n",
       "<table border=\"1\" class=\"dataframe\">\n",
       "  <thead>\n",
       "    <tr style=\"text-align: right;\">\n",
       "      <th></th>\n",
       "      <th>patient_number</th>\n",
       "      <th>state_patient_number</th>\n",
       "      <th>date_announced</th>\n",
       "      <th>age_bracket</th>\n",
       "      <th>gender</th>\n",
       "      <th>detected_city</th>\n",
       "      <th>detected_district</th>\n",
       "      <th>detected_state</th>\n",
       "      <th>state_code</th>\n",
       "      <th>current_status</th>\n",
       "      <th>notes</th>\n",
       "      <th>suspected_contacted_patient</th>\n",
       "      <th>nationality</th>\n",
       "      <th>type_of_transmission</th>\n",
       "      <th>status_change_date</th>\n",
       "      <th>source_1</th>\n",
       "      <th>source_2</th>\n",
       "      <th>source_3</th>\n",
       "      <th>backup_notes</th>\n",
       "    </tr>\n",
       "  </thead>\n",
       "  <tbody>\n",
       "    <tr>\n",
       "      <th>0</th>\n",
       "      <td>1</td>\n",
       "      <td>KL-TS-P1</td>\n",
       "      <td>2020-01-30</td>\n",
       "      <td>20</td>\n",
       "      <td>F</td>\n",
       "      <td>Thrissur</td>\n",
       "      <td>Thrissur</td>\n",
       "      <td>Kerala</td>\n",
       "      <td>KL</td>\n",
       "      <td>Recovered</td>\n",
       "      <td>Travelled from Wuhan</td>\n",
       "      <td>NaN</td>\n",
       "      <td>India</td>\n",
       "      <td>Imported</td>\n",
       "      <td>2020-02-14</td>\n",
       "      <td>https://twitter.com/vijayanpinarayi/status/122...</td>\n",
       "      <td>https://weather.com/en-IN/india/news/news/2020...</td>\n",
       "      <td>Student from Wuhan</td>\n",
       "      <td>NaN</td>\n",
       "    </tr>\n",
       "    <tr>\n",
       "      <th>1</th>\n",
       "      <td>2</td>\n",
       "      <td>KL-AL-P1</td>\n",
       "      <td>2020-02-02</td>\n",
       "      <td>NaN</td>\n",
       "      <td>NaN</td>\n",
       "      <td>Alappuzha</td>\n",
       "      <td>Alappuzha</td>\n",
       "      <td>Kerala</td>\n",
       "      <td>KL</td>\n",
       "      <td>Recovered</td>\n",
       "      <td>Travelled from Wuhan</td>\n",
       "      <td>NaN</td>\n",
       "      <td>India</td>\n",
       "      <td>Imported</td>\n",
       "      <td>2020-02-14</td>\n",
       "      <td>https://www.indiatoday.in/india/story/kerala-r...</td>\n",
       "      <td>https://weather.com/en-IN/india/news/news/2020...</td>\n",
       "      <td>NaN</td>\n",
       "      <td>Student from Wuhan</td>\n",
       "    </tr>\n",
       "  </tbody>\n",
       "</table>\n",
       "</div>"
      ],
      "text/plain": [
       "   patient_number state_patient_number date_announced age_bracket gender  \\\n",
       "0               1             KL-TS-P1     2020-01-30          20      F   \n",
       "1               2             KL-AL-P1     2020-02-02         NaN    NaN   \n",
       "\n",
       "  detected_city detected_district detected_state state_code current_status  \\\n",
       "0      Thrissur          Thrissur         Kerala         KL      Recovered   \n",
       "1     Alappuzha         Alappuzha         Kerala         KL      Recovered   \n",
       "\n",
       "                  notes suspected_contacted_patient nationality  \\\n",
       "0  Travelled from Wuhan                         NaN       India   \n",
       "1  Travelled from Wuhan                         NaN       India   \n",
       "\n",
       "  type_of_transmission status_change_date  \\\n",
       "0             Imported         2020-02-14   \n",
       "1             Imported         2020-02-14   \n",
       "\n",
       "                                            source_1  \\\n",
       "0  https://twitter.com/vijayanpinarayi/status/122...   \n",
       "1  https://www.indiatoday.in/india/story/kerala-r...   \n",
       "\n",
       "                                            source_2            source_3  \\\n",
       "0  https://weather.com/en-IN/india/news/news/2020...  Student from Wuhan   \n",
       "1  https://weather.com/en-IN/india/news/news/2020...                 NaN   \n",
       "\n",
       "         backup_notes  \n",
       "0                 NaN  \n",
       "1  Student from Wuhan  "
      ]
     },
     "execution_count": 5,
     "metadata": {},
     "output_type": "execute_result"
    }
   ],
   "source": [
    "patients_ds.head(2)"
   ]
  },
  {
   "cell_type": "code",
   "execution_count": 6,
   "metadata": {},
   "outputs": [],
   "source": [
    "# Reading districs dataset\n",
    "# Note: I manually mapped districts in excel on the basis of population density,\n",
    "# please refer to my_covid_district_dataset.xlsx for more details on mapping\n",
    "dense_district_ds = pd.read_csv(r'pop_density_mapped_district.csv')"
   ]
  },
  {
   "cell_type": "code",
   "execution_count": 7,
   "metadata": {},
   "outputs": [
    {
     "data": {
      "text/html": [
       "<div>\n",
       "<style scoped>\n",
       "    .dataframe tbody tr th:only-of-type {\n",
       "        vertical-align: middle;\n",
       "    }\n",
       "\n",
       "    .dataframe tbody tr th {\n",
       "        vertical-align: top;\n",
       "    }\n",
       "\n",
       "    .dataframe thead th {\n",
       "        text-align: right;\n",
       "    }\n",
       "</style>\n",
       "<table border=\"1\" class=\"dataframe\">\n",
       "  <thead>\n",
       "    <tr style=\"text-align: right;\">\n",
       "      <th></th>\n",
       "      <th>District</th>\n",
       "      <th>Person</th>\n",
       "      <th>Male</th>\n",
       "      <th>Female</th>\n",
       "      <th>Sex Ratio</th>\n",
       "      <th>Density</th>\n",
       "      <th>mapped_district</th>\n",
       "    </tr>\n",
       "  </thead>\n",
       "  <tbody>\n",
       "    <tr>\n",
       "      <th>0</th>\n",
       "      <td>Papum Pare</td>\n",
       "      <td>1,21,750</td>\n",
       "      <td>64,122</td>\n",
       "      <td>57,628</td>\n",
       "      <td>899</td>\n",
       "      <td>35</td>\n",
       "      <td>North Cachar Hills</td>\n",
       "    </tr>\n",
       "    <tr>\n",
       "      <th>1</th>\n",
       "      <td>Uttarkashi</td>\n",
       "      <td>2,94,179</td>\n",
       "      <td>1,51,599</td>\n",
       "      <td>1,42,580</td>\n",
       "      <td>941</td>\n",
       "      <td>37</td>\n",
       "      <td>North Cachar Hills</td>\n",
       "    </tr>\n",
       "  </tbody>\n",
       "</table>\n",
       "</div>"
      ],
      "text/plain": [
       "     District    Person      Male    Female Sex Ratio  Density  \\\n",
       "0  Papum Pare  1,21,750    64,122    57,628       899       35   \n",
       "1  Uttarkashi  2,94,179  1,51,599  1,42,580       941       37   \n",
       "\n",
       "      mapped_district  \n",
       "0  North Cachar Hills  \n",
       "1  North Cachar Hills  "
      ]
     },
     "execution_count": 7,
     "metadata": {},
     "output_type": "execute_result"
    }
   ],
   "source": [
    "dense_district_ds.head(2)"
   ]
  },
  {
   "cell_type": "code",
   "execution_count": 8,
   "metadata": {},
   "outputs": [],
   "source": [
    "# Filtering only required columns\n",
    "patients_ds = patients_ds[['date_announced','status_change_date','age_bracket','gender','detected_district','detected_city','detected_state','state_code']]"
   ]
  },
  {
   "cell_type": "code",
   "execution_count": 9,
   "metadata": {},
   "outputs": [],
   "source": [
    "# Merging patients and mapped district dataset on the basis of districts\n",
    "den_final_df = pd.merge(patients_ds,dense_district_ds,left_on='detected_district',right_on='District')"
   ]
  },
  {
   "cell_type": "code",
   "execution_count": 10,
   "metadata": {},
   "outputs": [
    {
     "data": {
      "text/plain": [
       "(1952, 15)"
      ]
     },
     "execution_count": 10,
     "metadata": {},
     "output_type": "execute_result"
    }
   ],
   "source": [
    "den_final_df.shape"
   ]
  },
  {
   "cell_type": "code",
   "execution_count": 11,
   "metadata": {},
   "outputs": [
    {
     "data": {
      "text/plain": [
       "NaN    1279\n",
       "M       480\n",
       "F       193\n",
       "Name: gender, dtype: int64"
      ]
     },
     "execution_count": 11,
     "metadata": {},
     "output_type": "execute_result"
    }
   ],
   "source": [
    "# Checking for Nan values in Gnder column\n",
    "den_final_df['gender'].value_counts(dropna=False)"
   ]
  },
  {
   "cell_type": "code",
   "execution_count": 12,
   "metadata": {},
   "outputs": [],
   "source": [
    "# Replacing NaN values in Gender with M\n",
    "den_final_df['gender'].fillna(value='M',inplace=True)"
   ]
  },
  {
   "cell_type": "code",
   "execution_count": 13,
   "metadata": {},
   "outputs": [],
   "source": [
    "den_final_df['gender'] = den_final_df['gender'].map({'M':'Male','F':'Female'})"
   ]
  },
  {
   "cell_type": "code",
   "execution_count": 14,
   "metadata": {},
   "outputs": [],
   "source": [
    "# Renaming columns as per NobBS R Code requirement\n",
    "den_final_df.rename(columns={'date_announced':'report_week'},inplace=True)"
   ]
  },
  {
   "cell_type": "code",
   "execution_count": 15,
   "metadata": {},
   "outputs": [],
   "source": [
    "#startdate=datetime.date(YYYY,MM,DD)\n",
    "den_final_df['onset_week']=den_final_df['report_week'].apply(lambda x: x - datetime.timedelta(randint(5,9)))"
   ]
  },
  {
   "cell_type": "code",
   "execution_count": 16,
   "metadata": {},
   "outputs": [
    {
     "data": {
      "text/html": [
       "<div>\n",
       "<style scoped>\n",
       "    .dataframe tbody tr th:only-of-type {\n",
       "        vertical-align: middle;\n",
       "    }\n",
       "\n",
       "    .dataframe tbody tr th {\n",
       "        vertical-align: top;\n",
       "    }\n",
       "\n",
       "    .dataframe thead th {\n",
       "        text-align: right;\n",
       "    }\n",
       "</style>\n",
       "<table border=\"1\" class=\"dataframe\">\n",
       "  <thead>\n",
       "    <tr style=\"text-align: right;\">\n",
       "      <th></th>\n",
       "      <th>report_week</th>\n",
       "      <th>status_change_date</th>\n",
       "      <th>age_bracket</th>\n",
       "      <th>gender</th>\n",
       "      <th>detected_district</th>\n",
       "      <th>detected_city</th>\n",
       "      <th>detected_state</th>\n",
       "      <th>state_code</th>\n",
       "      <th>District</th>\n",
       "      <th>Person</th>\n",
       "      <th>Male</th>\n",
       "      <th>Female</th>\n",
       "      <th>Sex Ratio</th>\n",
       "      <th>Density</th>\n",
       "      <th>mapped_district</th>\n",
       "      <th>onset_week</th>\n",
       "    </tr>\n",
       "  </thead>\n",
       "  <tbody>\n",
       "    <tr>\n",
       "      <th>0</th>\n",
       "      <td>2020-02-03</td>\n",
       "      <td>2020-02-14</td>\n",
       "      <td>NaN</td>\n",
       "      <td>Male</td>\n",
       "      <td>Kasaragod</td>\n",
       "      <td>Kasaragod</td>\n",
       "      <td>Kerala</td>\n",
       "      <td>KL</td>\n",
       "      <td>Kasaragod</td>\n",
       "      <td>12,03,342</td>\n",
       "      <td>5,87,763</td>\n",
       "      <td>6,15,579</td>\n",
       "      <td>1,047</td>\n",
       "      <td>604</td>\n",
       "      <td>Nagaon</td>\n",
       "      <td>2020-01-25</td>\n",
       "    </tr>\n",
       "    <tr>\n",
       "      <th>1</th>\n",
       "      <td>2020-03-16</td>\n",
       "      <td>2020-03-16</td>\n",
       "      <td>NaN</td>\n",
       "      <td>Male</td>\n",
       "      <td>Kasaragod</td>\n",
       "      <td>Kalanadu</td>\n",
       "      <td>Kerala</td>\n",
       "      <td>KL</td>\n",
       "      <td>Kasaragod</td>\n",
       "      <td>12,03,342</td>\n",
       "      <td>5,87,763</td>\n",
       "      <td>6,15,579</td>\n",
       "      <td>1,047</td>\n",
       "      <td>604</td>\n",
       "      <td>Nagaon</td>\n",
       "      <td>2020-03-07</td>\n",
       "    </tr>\n",
       "  </tbody>\n",
       "</table>\n",
       "</div>"
      ],
      "text/plain": [
       "  report_week status_change_date age_bracket gender detected_district  \\\n",
       "0  2020-02-03         2020-02-14         NaN   Male         Kasaragod   \n",
       "1  2020-03-16         2020-03-16         NaN   Male         Kasaragod   \n",
       "\n",
       "  detected_city detected_state state_code   District     Person      Male  \\\n",
       "0     Kasaragod         Kerala         KL  Kasaragod  12,03,342  5,87,763   \n",
       "1      Kalanadu         Kerala         KL  Kasaragod  12,03,342  5,87,763   \n",
       "\n",
       "     Female Sex Ratio  Density mapped_district onset_week  \n",
       "0  6,15,579     1,047      604          Nagaon 2020-01-25  \n",
       "1  6,15,579     1,047      604          Nagaon 2020-03-07  "
      ]
     },
     "execution_count": 16,
     "metadata": {},
     "output_type": "execute_result"
    }
   ],
   "source": [
    "den_final_df.head(2)"
   ]
  },
  {
   "cell_type": "code",
   "execution_count": 17,
   "metadata": {},
   "outputs": [
    {
     "data": {
      "text/plain": [
       "8 days    402\n",
       "9 days    393\n",
       "7 days    387\n",
       "5 days    386\n",
       "6 days    384\n",
       "Name: day_diff, dtype: int64"
      ]
     },
     "execution_count": 17,
     "metadata": {},
     "output_type": "execute_result"
    }
   ],
   "source": [
    "# Checking for adjusted onset date adjustment (5-9 days)\n",
    "from datetime import datetime, timedelta\n",
    "den_final_df['day_diff'] = den_final_df['report_week'] - den_final_df['onset_week']\n",
    "den_final_df['day_diff'].value_counts()"
   ]
  },
  {
   "cell_type": "code",
   "execution_count": 18,
   "metadata": {},
   "outputs": [
    {
     "data": {
      "text/html": [
       "<div>\n",
       "<style scoped>\n",
       "    .dataframe tbody tr th:only-of-type {\n",
       "        vertical-align: middle;\n",
       "    }\n",
       "\n",
       "    .dataframe tbody tr th {\n",
       "        vertical-align: top;\n",
       "    }\n",
       "\n",
       "    .dataframe thead th {\n",
       "        text-align: right;\n",
       "    }\n",
       "</style>\n",
       "<table border=\"1\" class=\"dataframe\">\n",
       "  <thead>\n",
       "    <tr style=\"text-align: right;\">\n",
       "      <th></th>\n",
       "      <th>report_week</th>\n",
       "      <th>status_change_date</th>\n",
       "      <th>age_bracket</th>\n",
       "      <th>gender</th>\n",
       "      <th>detected_district</th>\n",
       "      <th>detected_city</th>\n",
       "      <th>detected_state</th>\n",
       "      <th>state_code</th>\n",
       "      <th>District</th>\n",
       "      <th>Person</th>\n",
       "      <th>Male</th>\n",
       "      <th>Female</th>\n",
       "      <th>Sex Ratio</th>\n",
       "      <th>Density</th>\n",
       "      <th>mapped_district</th>\n",
       "      <th>onset_week</th>\n",
       "      <th>day_diff</th>\n",
       "    </tr>\n",
       "  </thead>\n",
       "  <tbody>\n",
       "    <tr>\n",
       "      <th>0</th>\n",
       "      <td>2020-02-03</td>\n",
       "      <td>2020-02-14</td>\n",
       "      <td>NaN</td>\n",
       "      <td>Male</td>\n",
       "      <td>Kasaragod</td>\n",
       "      <td>Kasaragod</td>\n",
       "      <td>Kerala</td>\n",
       "      <td>KL</td>\n",
       "      <td>Kasaragod</td>\n",
       "      <td>12,03,342</td>\n",
       "      <td>5,87,763</td>\n",
       "      <td>6,15,579</td>\n",
       "      <td>1,047</td>\n",
       "      <td>604</td>\n",
       "      <td>Nagaon</td>\n",
       "      <td>2020-01-25</td>\n",
       "      <td>9 days</td>\n",
       "    </tr>\n",
       "    <tr>\n",
       "      <th>1</th>\n",
       "      <td>2020-03-16</td>\n",
       "      <td>2020-03-16</td>\n",
       "      <td>NaN</td>\n",
       "      <td>Male</td>\n",
       "      <td>Kasaragod</td>\n",
       "      <td>Kalanadu</td>\n",
       "      <td>Kerala</td>\n",
       "      <td>KL</td>\n",
       "      <td>Kasaragod</td>\n",
       "      <td>12,03,342</td>\n",
       "      <td>5,87,763</td>\n",
       "      <td>6,15,579</td>\n",
       "      <td>1,047</td>\n",
       "      <td>604</td>\n",
       "      <td>Nagaon</td>\n",
       "      <td>2020-03-07</td>\n",
       "      <td>9 days</td>\n",
       "    </tr>\n",
       "  </tbody>\n",
       "</table>\n",
       "</div>"
      ],
      "text/plain": [
       "  report_week status_change_date age_bracket gender detected_district  \\\n",
       "0  2020-02-03         2020-02-14         NaN   Male         Kasaragod   \n",
       "1  2020-03-16         2020-03-16         NaN   Male         Kasaragod   \n",
       "\n",
       "  detected_city detected_state state_code   District     Person      Male  \\\n",
       "0     Kasaragod         Kerala         KL  Kasaragod  12,03,342  5,87,763   \n",
       "1      Kalanadu         Kerala         KL  Kasaragod  12,03,342  5,87,763   \n",
       "\n",
       "     Female Sex Ratio  Density mapped_district onset_week day_diff  \n",
       "0  6,15,579     1,047      604          Nagaon 2020-01-25   9 days  \n",
       "1  6,15,579     1,047      604          Nagaon 2020-03-07   9 days  "
      ]
     },
     "execution_count": 18,
     "metadata": {},
     "output_type": "execute_result"
    }
   ],
   "source": [
    "den_final_df.head(2)"
   ]
  },
  {
   "cell_type": "code",
   "execution_count": 19,
   "metadata": {},
   "outputs": [],
   "source": [
    "# Getting Assam district list\n",
    "district_list = den_final_df['mapped_district'].value_counts().reset_index()['index'].values"
   ]
  },
  {
   "cell_type": "code",
   "execution_count": 20,
   "metadata": {},
   "outputs": [],
   "source": [
    "# Creating csv file for each district\n",
    "for dist in district_list:\n",
    "    dist_name = '%s'%dist + '_df'\n",
    "    dist_name = den_final_df[den_final_df['mapped_district'] == dist]\n",
    "    dist_name.name = dist\n",
    "    dist_name[['onset_week','report_week','gender']].to_csv('%s_data_input.csv'%dist_name.name,index=False)"
   ]
  }
 ],
 "metadata": {
  "kernelspec": {
   "display_name": "Python 3",
   "language": "python",
   "name": "python3"
  },
  "language_info": {
   "codemirror_mode": {
    "name": "ipython",
    "version": 3
   },
   "file_extension": ".py",
   "mimetype": "text/x-python",
   "name": "python",
   "nbconvert_exporter": "python",
   "pygments_lexer": "ipython3",
   "version": "3.7.1"
  }
 },
 "nbformat": 4,
 "nbformat_minor": 2
}

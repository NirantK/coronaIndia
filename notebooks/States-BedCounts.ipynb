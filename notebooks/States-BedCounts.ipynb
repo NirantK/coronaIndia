{
 "cells": [
  {
   "cell_type": "code",
   "execution_count": 1,
   "metadata": {},
   "outputs": [],
   "source": [
    "url = \"https://pib.gov.in/PressReleasePage.aspx?PRID=1539877\""
   ]
  },
  {
   "cell_type": "code",
   "execution_count": 2,
   "metadata": {},
   "outputs": [
    {
     "name": "stdout",
     "output_type": "stream",
     "text": [
      "Requirement already satisfied: lxml in /Users/nirant/miniconda3/envs/nanda/lib/python3.7/site-packages (4.5.0)\r\n"
     ]
    }
   ],
   "source": [
    "import json\n",
    "import random\n",
    "from pathlib import Path\n",
    "\n",
    "# !pip install camelot\n",
    "import camelot\n",
    "\n",
    "!pip install lxml\n",
    "import pandas as pd\n",
    "\n",
    "%load_ext autoreload\n",
    "%autoreload 2\n",
    "Path.ls = lambda x: list(x.iterdir())"
   ]
  },
  {
   "cell_type": "code",
   "execution_count": 3,
   "metadata": {},
   "outputs": [],
   "source": [
    "df = pd.read_html(url, header=None)"
   ]
  },
  {
   "cell_type": "code",
   "execution_count": 4,
   "metadata": {},
   "outputs": [
    {
     "data": {
      "text/html": [
       "<div>\n",
       "<style scoped>\n",
       "    .dataframe tbody tr th:only-of-type {\n",
       "        vertical-align: middle;\n",
       "    }\n",
       "\n",
       "    .dataframe tbody tr th {\n",
       "        vertical-align: top;\n",
       "    }\n",
       "\n",
       "    .dataframe thead th {\n",
       "        text-align: right;\n",
       "    }\n",
       "</style>\n",
       "<table border=\"1\" class=\"dataframe\">\n",
       "  <thead>\n",
       "    <tr style=\"text-align: right;\">\n",
       "      <th></th>\n",
       "      <th>0</th>\n",
       "      <th>1</th>\n",
       "      <th>2</th>\n",
       "      <th>3</th>\n",
       "      <th>4</th>\n",
       "      <th>5</th>\n",
       "    </tr>\n",
       "  </thead>\n",
       "  <tbody>\n",
       "    <tr>\n",
       "      <th>0</th>\n",
       "      <td>States/UTs</td>\n",
       "      <td>Rural hospitals</td>\n",
       "      <td>Rural hospitals</td>\n",
       "      <td>Urban hospitals</td>\n",
       "      <td>Urban hospitals</td>\n",
       "      <td>As on</td>\n",
       "    </tr>\n",
       "    <tr>\n",
       "      <th>1</th>\n",
       "      <td>NaN</td>\n",
       "      <td>No.</td>\n",
       "      <td>Beds</td>\n",
       "      <td>No.</td>\n",
       "      <td>Beds</td>\n",
       "      <td>As on</td>\n",
       "    </tr>\n",
       "  </tbody>\n",
       "</table>\n",
       "</div>"
      ],
      "text/plain": [
       "            0                1                2                3  \\\n",
       "0  States/UTs  Rural hospitals  Rural hospitals  Urban hospitals   \n",
       "1         NaN              No.             Beds              No.   \n",
       "\n",
       "                 4      5  \n",
       "0  Urban hospitals  As on  \n",
       "1             Beds  As on  "
      ]
     },
     "execution_count": 4,
     "metadata": {},
     "output_type": "execute_result"
    }
   ],
   "source": [
    "govt_hospitals = df[1]\n",
    "govt_hospitals[:2]"
   ]
  },
  {
   "cell_type": "code",
   "execution_count": 5,
   "metadata": {},
   "outputs": [],
   "source": [
    "headers = [\"State\", \"RuralHospitalsCount\", \"RuralBeds\", \"UrbanHospitals\", \"UrbanBeds\", \"Date\"]"
   ]
  },
  {
   "cell_type": "code",
   "execution_count": 6,
   "metadata": {},
   "outputs": [
    {
     "data": {
      "text/plain": [
       "['State',\n",
       " 'RuralHospitalsCount',\n",
       " 'RuralBeds',\n",
       " 'UrbanHospitals',\n",
       " 'UrbanBeds',\n",
       " 'Date']"
      ]
     },
     "execution_count": 6,
     "metadata": {},
     "output_type": "execute_result"
    }
   ],
   "source": [
    "headers"
   ]
  },
  {
   "cell_type": "code",
   "execution_count": 7,
   "metadata": {},
   "outputs": [],
   "source": [
    "govt_hospitals.columns = headers"
   ]
  },
  {
   "cell_type": "code",
   "execution_count": 8,
   "metadata": {},
   "outputs": [],
   "source": [
    "gvt_hosp_df = govt_hospitals[2:]"
   ]
  },
  {
   "cell_type": "code",
   "execution_count": 9,
   "metadata": {},
   "outputs": [],
   "source": [
    "gvt_hosp_df.reset_index(drop=True, inplace=True)"
   ]
  },
  {
   "cell_type": "code",
   "execution_count": 10,
   "metadata": {},
   "outputs": [],
   "source": [
    "from dateutil.parser import parse\n",
    "\n",
    "def date_parser(date: str):\n",
    "    \"\"\"\n",
    "    Argument:\n",
    "        date(str): Input string\n",
    "    \n",
    "    Returns:\n",
    "        dateutil object\n",
    "    \"\"\"\n",
    "    try:\n",
    "        date = str(date)\n",
    "        return parse(date)\n",
    "    except:\n",
    "        return None\n",
    "    \n",
    "# gvt_hosp_df[\"Date\"] = gvt_hosp_df[\"Date\"].apply(parse)"
   ]
  },
  {
   "cell_type": "code",
   "execution_count": 26,
   "metadata": {},
   "outputs": [
    {
     "name": "stderr",
     "output_type": "stream",
     "text": [
      "/Users/nirant/miniconda3/envs/nanda/lib/python3.7/site-packages/pandas/core/indexing.py:965: SettingWithCopyWarning: \n",
      "A value is trying to be set on a copy of a slice from a DataFrame.\n",
      "Try using .loc[row_indexer,col_indexer] = value instead\n",
      "\n",
      "See the caveats in the documentation: https://pandas.pydata.org/pandas-docs/stable/user_guide/indexing.html#returning-a-view-versus-a-copy\n",
      "  self.obj[item] = s\n"
     ]
    }
   ],
   "source": [
    "gvt_hosp_df.loc[36, \"Date\"] = \"01.01.2016\""
   ]
  },
  {
   "cell_type": "code",
   "execution_count": 25,
   "metadata": {},
   "outputs": [
    {
     "name": "stderr",
     "output_type": "stream",
     "text": [
      "/Users/nirant/miniconda3/envs/nanda/lib/python3.7/site-packages/ipykernel_launcher.py:1: SettingWithCopyWarning: \n",
      "A value is trying to be set on a copy of a slice from a DataFrame.\n",
      "Try using .loc[row_indexer,col_indexer] = value instead\n",
      "\n",
      "See the caveats in the documentation: https://pandas.pydata.org/pandas-docs/stable/user_guide/indexing.html#returning-a-view-versus-a-copy\n",
      "  \"\"\"Entry point for launching an IPython kernel.\n"
     ]
    }
   ],
   "source": [
    "gvt_hosp_df[\"Date\"] = gvt_hosp_df[\"Date\"].apply(parse)"
   ]
  },
  {
   "cell_type": "code",
   "execution_count": 27,
   "metadata": {},
   "outputs": [
    {
     "name": "stderr",
     "output_type": "stream",
     "text": [
      "/Users/nirant/miniconda3/envs/nanda/lib/python3.7/site-packages/ipykernel_launcher.py:1: SettingWithCopyWarning: \n",
      "A value is trying to be set on a copy of a slice from a DataFrame.\n",
      "Try using .loc[row_indexer,col_indexer] = value instead\n",
      "\n",
      "See the caveats in the documentation: https://pandas.pydata.org/pandas-docs/stable/user_guide/indexing.html#returning-a-view-versus-a-copy\n",
      "  \"\"\"Entry point for launching an IPython kernel.\n"
     ]
    }
   ],
   "source": [
    "gvt_hosp_df[\"Source\"] = \"https://pib.gov.in/PressReleasePage.aspx?PRID=1539877\""
   ]
  },
  {
   "cell_type": "code",
   "execution_count": 28,
   "metadata": {},
   "outputs": [
    {
     "name": "stderr",
     "output_type": "stream",
     "text": [
      "/Users/nirant/miniconda3/envs/nanda/lib/python3.7/site-packages/ipykernel_launcher.py:2: SettingWithCopyWarning: \n",
      "A value is trying to be set on a copy of a slice from a DataFrame.\n",
      "Try using .loc[row_indexer,col_indexer] = value instead\n",
      "\n",
      "See the caveats in the documentation: https://pandas.pydata.org/pandas-docs/stable/user_guide/indexing.html#returning-a-view-versus-a-copy\n",
      "  \n"
     ]
    }
   ],
   "source": [
    "gvt_hosp_df[\"State\"] = gvt_hosp_df[\"State\"].apply(lambda x: x.replace(\"*\", \"\"))"
   ]
  },
  {
   "cell_type": "code",
   "execution_count": 29,
   "metadata": {},
   "outputs": [],
   "source": [
    "gvt_hosp_df.to_csv(\"Hospitals.csv\", index=False)"
   ]
  },
  {
   "cell_type": "code",
   "execution_count": 31,
   "metadata": {},
   "outputs": [
    {
     "name": "stdout",
     "output_type": "stream",
     "text": [
      "State,RuralHospitalsCount,RuralBeds,UrbanHospitals,UrbanBeds,Date,Source\r\n",
      "Andhra Pradesh,193,6480,65,16658,2017-01-01 00:00:00,https://pib.gov.in/PressReleasePage.aspx?PRID=1539877\r\n",
      "Arunachal Pradesh,208,2136,10,268,2017-12-31 00:00:00,https://pib.gov.in/PressReleasePage.aspx?PRID=1539877\r\n",
      "Assam,1176,10944,50,6198,2017-12-31 00:00:00,https://pib.gov.in/PressReleasePage.aspx?PRID=1539877\r\n",
      "Bihar,930,6083,103,5936,2016-12-31 00:00:00,https://pib.gov.in/PressReleasePage.aspx?PRID=1539877\r\n",
      "Chhattisgarh,169,5070,45,4342,2016-01-01 00:00:00,https://pib.gov.in/PressReleasePage.aspx?PRID=1539877\r\n",
      "Goa,17,1405,25,1608,2017-12-31 00:00:00,https://pib.gov.in/PressReleasePage.aspx?PRID=1539877\r\n",
      "Gujarat,364,11715,122,20565,2016-12-31 00:00:00,https://pib.gov.in/PressReleasePage.aspx?PRID=1539877\r\n",
      "Haryana,609,6690,59,4550,2016-12-31 00:00:00,https://pib.gov.in/PressReleasePage.aspx?PRID=1539877\r\n",
      "Himachal Pradesh,705,5665,96,6734,2017-12-31 00:00:00,https://pib.gov.in/PressReleasePage.aspx?PRID=1539877\r\n"
     ]
    }
   ],
   "source": [
    "!head Hospitals.csv"
   ]
  }
 ],
 "metadata": {
  "kernelspec": {
   "display_name": "Python 3",
   "language": "python",
   "name": "python3"
  },
  "language_info": {
   "codemirror_mode": {
    "name": "ipython",
    "version": 3
   },
   "file_extension": ".py",
   "mimetype": "text/x-python",
   "name": "python",
   "nbconvert_exporter": "python",
   "pygments_lexer": "ipython3",
   "version": "3.7.5"
  }
 },
 "nbformat": 4,
 "nbformat_minor": 2
}
